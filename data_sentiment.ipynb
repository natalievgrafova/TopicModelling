{
 "cells": [
  {
   "cell_type": "code",
   "execution_count": 20,
   "metadata": {},
   "outputs": [],
   "source": [
    "import pandas as pd\n",
    "import spacy\n",
    "import pyLDAvis.gensim_models\n",
    "pyLDAvis.enable_notebook()# Visualise inside a notebook\n",
    "import fr_core_news_lg\n",
    "from gensim.corpora.dictionary import Dictionary\n",
    "from gensim.models import LdaMulticore\n",
    "from gensim.models import CoherenceModel\n",
    "import pyLDAvis.gensim\n",
    "import pickle"
   ]
  },
  {
   "cell_type": "code",
   "execution_count": 21,
   "metadata": {},
   "outputs": [],
   "source": [
    "nlp_fr = fr_core_news_lg.load()\n"
   ]
  },
  {
   "cell_type": "code",
   "execution_count": 22,
   "metadata": {},
   "outputs": [],
   "source": [
    "removal= ['ADV','PRON','CCONJ','PUNCT','PART','DET','ADP','SPACE', 'NUM', 'SYM']\n"
   ]
  },
  {
   "cell_type": "code",
   "execution_count": 23,
   "metadata": {},
   "outputs": [],
   "source": [
    "articles = pd.read_csv('french_10.csv')"
   ]
  },
  {
   "cell_type": "code",
   "execution_count": 24,
   "metadata": {},
   "outputs": [],
   "source": [
    "test_list = []"
   ]
  },
  {
   "cell_type": "code",
   "execution_count": 28,
   "metadata": {},
   "outputs": [],
   "source": [
    "if 'université' and 'Johnn' in articles.iloc[1,3]: \n",
    "    test_list.append(articles.iloc[1,3])"
   ]
  },
  {
   "cell_type": "code",
   "execution_count": 29,
   "metadata": {},
   "outputs": [
    {
     "data": {
      "text/plain": [
       "[]"
      ]
     },
     "execution_count": 29,
     "metadata": {},
     "output_type": "execute_result"
    }
   ],
   "source": [
    "test_list"
   ]
  },
  {
   "cell_type": "code",
   "execution_count": 89,
   "metadata": {},
   "outputs": [],
   "source": [
    "for row in range(len(articles)): \n",
    "    if 'données' in str(articles.iloc[row, 3]):\n",
    "        articles_list.append(articles.iloc[row, 3])"
   ]
  },
  {
   "cell_type": "code",
   "execution_count": 30,
   "metadata": {},
   "outputs": [
    {
     "ename": "NameError",
     "evalue": "name 'articles_list' is not defined",
     "output_type": "error",
     "traceback": [
      "\u001b[0;31m---------------------------------------------------------------------------\u001b[0m",
      "\u001b[0;31mNameError\u001b[0m                                 Traceback (most recent call last)",
      "Cell \u001b[0;32mIn[30], line 1\u001b[0m\n\u001b[0;32m----> 1\u001b[0m \u001b[39mlen\u001b[39m(articles_list)\n",
      "\u001b[0;31mNameError\u001b[0m: name 'articles_list' is not defined"
     ]
    }
   ],
   "source": [
    "len(articles_list)"
   ]
  },
  {
   "cell_type": "code",
   "execution_count": 91,
   "metadata": {},
   "outputs": [
    {
     "data": {
      "text/plain": [
       "'Un consortium de multinationales télécom va construire un câble sous-marin de 37.000 km tout autour de l\\'Afrique afin d\\'améliorer l\\'accès à internet de ce continent et du Moyen-Orient, ont annoncé jeudi les parties prenantes parmi lesquelles Orange.\\\\n\\\\nL\\'opérateur français, China Mobile International, Facebook, MTN GlobalConnect, stc (Saudi Telecom Company), Telecom Egypt, Vodafone et WIOCC ont confié la construction de ce gigantesque projet, baptisé \"2Africa\", à Alcatel Submarine Networks (ASN).\\\\n\\\\nLe câble, l\\'un des plus longs au monde, reliera l\\'Europe de l\\'ouest au Moyen-Orient et à 16 pays d\\'Afrique, parcourant la Méditerranée, la mer Rouge, le golfe d\\'Aden, la côte africaine de l\\'océan Indien jusqu\\'au cap de Bonne-Espérance, pour remonter l\\'océan Atlantique jusqu\\'en Grande-Bretagne.\\\\n\\\\nLes associés visent une mise en service en 2023 ou 2024 pour fournir un accès \"supérieur à la capacité combinée totale de tous les câbles sous-marins desservant l\\'Afrique à l\\'heure actuelle\", est-il précisé dans un communiqué commun.\\\\n\\\\nLe câble 2Africa \"apportera à de nombreuses régions d\\'Afrique la connectivité Internet et la fiabilité dont elles ont tant besoin\", estiment les associés. \"Il répondra à la demande de capacité toujours plus importante au Moyen-Orient et facilitera le déploiement de la 4G, de la 5G et de l\\'accès haut débit fixe pour des centaines de millions de personnes.\"\\\\n\\\\nLes parties prenantes au projet vantent également un projet durable dans la mesure où les data centers et stations d\\'atterrage fourniront des capacités \"de manière équitable et juste\", participant ainsi à un \"écosystème internet sain\".\\\\n\\\\nLe câble 2Africa intègrera la nouvelle technologie SDM1, conçue par ASN, déployant un maximum de 16 paires de fibres, là où les anciennes technologies n\\'en supportaient que huit.\\\\n\\\\nLe câble intègrera également la technologie \"commutation optique\" pour permettre une gestion flexible de la bande passante, soulignent-ils. Le câble sera plus enfoui que pour d\\'anciens systèmes et le tracé évitera les zones touchées par les perturbations sous-marines afin \"d\\'offrir le plus haut niveau de disponibilité possible\".\\\\n\\\\nPour Orange, \"cet investissement majeur complètera [les] infrastructures sous-marines [du groupe] et [ses] infrastructures terrestres panafricaines existantes pour fournir aux communautés de toute la côte ouest de l\\'Afrique un accès à la connectivité internationale\", a estimé le DG Afrique et Moyen-Orient Alioune Ndiaye.'"
      ]
     },
     "execution_count": 91,
     "metadata": {},
     "output_type": "execute_result"
    }
   ],
   "source": [
    "articles_list[1]"
   ]
  },
  {
   "cell_type": "code",
   "execution_count": 31,
   "metadata": {},
   "outputs": [
    {
     "data": {
      "text/html": [
       "<div>\n",
       "<style scoped>\n",
       "    .dataframe tbody tr th:only-of-type {\n",
       "        vertical-align: middle;\n",
       "    }\n",
       "\n",
       "    .dataframe tbody tr th {\n",
       "        vertical-align: top;\n",
       "    }\n",
       "\n",
       "    .dataframe thead th {\n",
       "        text-align: right;\n",
       "    }\n",
       "</style>\n",
       "<table border=\"1\" class=\"dataframe\">\n",
       "  <thead>\n",
       "    <tr style=\"text-align: right;\">\n",
       "      <th></th>\n",
       "      <th>_id</th>\n",
       "      <th>url</th>\n",
       "      <th>date</th>\n",
       "      <th>text</th>\n",
       "      <th>title</th>\n",
       "    </tr>\n",
       "  </thead>\n",
       "  <tbody>\n",
       "    <tr>\n",
       "      <th>0</th>\n",
       "      <td>5ec760320e5c92500d004aec</td>\n",
       "      <td>https://plus.lesoir.be/302284/article/2020-05-...</td>\n",
       "      <td>2020-05-22T04:49:17.000Z</td>\n",
       "      <td>Jamal Khashoggi, critique du régime saoudien a...</td>\n",
       "      <td>La famille du journaliste saoudien tué dans le...</td>\n",
       "    </tr>\n",
       "    <tr>\n",
       "      <th>1</th>\n",
       "      <td>5ec760320e5c92500d004aed</td>\n",
       "      <td>https://plus.lesoir.be/302283/article/2020-05-...</td>\n",
       "      <td>2020-05-22T04:32:51.000Z</td>\n",
       "      <td>Coronavirus: plus de 1.200 nouveaux morts aux ...</td>\n",
       "      <td>Coronavirus: plus de 1.200 nouveaux morts aux ...</td>\n",
       "    </tr>\n",
       "    <tr>\n",
       "      <th>2</th>\n",
       "      <td>5ec760320e5c92500d004aee</td>\n",
       "      <td>https://plus.lesoir.be/302282/article/2020-05-...</td>\n",
       "      <td>2020-05-22T04:22:52.000Z</td>\n",
       "      <td>Les concentrations de différents polluants rel...</td>\n",
       "      <td>La qualité de l’air en nette amélioration à Br...</td>\n",
       "    </tr>\n",
       "    <tr>\n",
       "      <th>3</th>\n",
       "      <td>5ec76032039b233f9642aeb2</td>\n",
       "      <td>https://plus.lesoir.be/302232/article/2020-05-...</td>\n",
       "      <td>2020-05-22T04:00:00.000Z</td>\n",
       "      <td>Vous avez aimé la bataille hivernale entre les...</td>\n",
       "      <td>Open VLD: une élection présidentielle à coutea...</td>\n",
       "    </tr>\n",
       "    <tr>\n",
       "      <th>4</th>\n",
       "      <td>5ec760320e5c92500d004aef</td>\n",
       "      <td>https://plus.lesoir.be/302281/article/2020-05-...</td>\n",
       "      <td>2020-05-22T04:17:10.000Z</td>\n",
       "      <td>Le premier facteur demeure le salaire. Plus d’...</td>\n",
       "      <td>Six ménages sur dix ont perdu de l’argent dura...</td>\n",
       "    </tr>\n",
       "  </tbody>\n",
       "</table>\n",
       "</div>"
      ],
      "text/plain": [
       "                        _id  \\\n",
       "0  5ec760320e5c92500d004aec   \n",
       "1  5ec760320e5c92500d004aed   \n",
       "2  5ec760320e5c92500d004aee   \n",
       "3  5ec76032039b233f9642aeb2   \n",
       "4  5ec760320e5c92500d004aef   \n",
       "\n",
       "                                                 url  \\\n",
       "0  https://plus.lesoir.be/302284/article/2020-05-...   \n",
       "1  https://plus.lesoir.be/302283/article/2020-05-...   \n",
       "2  https://plus.lesoir.be/302282/article/2020-05-...   \n",
       "3  https://plus.lesoir.be/302232/article/2020-05-...   \n",
       "4  https://plus.lesoir.be/302281/article/2020-05-...   \n",
       "\n",
       "                       date  \\\n",
       "0  2020-05-22T04:49:17.000Z   \n",
       "1  2020-05-22T04:32:51.000Z   \n",
       "2  2020-05-22T04:22:52.000Z   \n",
       "3  2020-05-22T04:00:00.000Z   \n",
       "4  2020-05-22T04:17:10.000Z   \n",
       "\n",
       "                                                text  \\\n",
       "0  Jamal Khashoggi, critique du régime saoudien a...   \n",
       "1  Coronavirus: plus de 1.200 nouveaux morts aux ...   \n",
       "2  Les concentrations de différents polluants rel...   \n",
       "3  Vous avez aimé la bataille hivernale entre les...   \n",
       "4  Le premier facteur demeure le salaire. Plus d’...   \n",
       "\n",
       "                                               title  \n",
       "0  La famille du journaliste saoudien tué dans le...  \n",
       "1  Coronavirus: plus de 1.200 nouveaux morts aux ...  \n",
       "2  La qualité de l’air en nette amélioration à Br...  \n",
       "3  Open VLD: une élection présidentielle à coutea...  \n",
       "4  Six ménages sur dix ont perdu de l’argent dura...  "
      ]
     },
     "execution_count": 31,
     "metadata": {},
     "output_type": "execute_result"
    }
   ],
   "source": [
    "articles.head()"
   ]
  },
  {
   "cell_type": "code",
   "execution_count": 32,
   "metadata": {},
   "outputs": [],
   "source": [
    "nlp = fr_core_news_lg.load()"
   ]
  },
  {
   "cell_type": "code",
   "execution_count": 33,
   "metadata": {},
   "outputs": [],
   "source": [
    "removal= ['AUX','PRON','CCONJ','PUNCT','PART','DET','ADP','SPACE', 'NUM', 'SYM', 'SCONJ']\n"
   ]
  },
  {
   "cell_type": "code",
   "execution_count": 41,
   "metadata": {},
   "outputs": [],
   "source": [
    "articles['text'] = str(articles['text'])"
   ]
  },
  {
   "cell_type": "code",
   "execution_count": 60,
   "metadata": {},
   "outputs": [],
   "source": [
    "tokens = []\n",
    "for text in nlp.pipe(articles['text']):\n",
    "   proj_tok = [token.lemma_.lower() for token in text if token.pos_ not in removal and not token.is_stop and token.is_alpha]\n",
    "   tokens.append(proj_tok)"
   ]
  },
  {
   "cell_type": "code",
   "execution_count": 62,
   "metadata": {},
   "outputs": [
    {
     "data": {
      "text/plain": [
       "['jamal',\n",
       " 'khashoggi',\n",
       " 'critique',\n",
       " 'régime',\n",
       " 'saoudien',\n",
       " 'coronavirus',\n",
       " 'nouveau',\n",
       " 'mort',\n",
       " 'concentration',\n",
       " 'polluant',\n",
       " 'rel',\n",
       " 'aimer',\n",
       " 'bataille',\n",
       " 'hivernal',\n",
       " 'facteur',\n",
       " 'demeure',\n",
       " 'salaire',\n",
       " 'discussion',\n",
       " 'gouvernement',\n",
       " 'belge',\n",
       " 'fond',\n",
       " 'crise',\n",
       " 'sanitaire',\n",
       " 'économique',\n",
       " 'lier',\n",
       " 'enseigne',\n",
       " 'bruxellois',\n",
       " 'meuble',\n",
       " 'contemporain',\n",
       " 'compte',\n",
       " 'accès',\n",
       " 'trouver',\n",
       " 'birmanie',\n",
       " 'soumettre',\n",
       " 'rapport',\n",
       " 'name',\n",
       " 'text',\n",
       " 'length',\n",
       " 'dtyp',\n",
       " 'object']"
      ]
     },
     "execution_count": 62,
     "metadata": {},
     "output_type": "execute_result"
    }
   ],
   "source": [
    "tokens[1]"
   ]
  },
  {
   "cell_type": "code",
   "execution_count": 72,
   "metadata": {},
   "outputs": [],
   "source": [
    "dictionary = Dictionary(tokens)"
   ]
  },
  {
   "cell_type": "code",
   "execution_count": 68,
   "metadata": {},
   "outputs": [
    {
     "name": "stdout",
     "output_type": "stream",
     "text": [
      "Dictionary<40 unique tokens: ['accès', 'aimer', 'bataille', 'belge', 'birmanie']...>\n"
     ]
    }
   ],
   "source": [
    "print(dictionary)"
   ]
  },
  {
   "cell_type": "code",
   "execution_count": 69,
   "metadata": {},
   "outputs": [],
   "source": [
    "dictionary.filter_extremes(no_below=5, no_above=0.5, keep_n=10000)"
   ]
  },
  {
   "cell_type": "code",
   "execution_count": 73,
   "metadata": {},
   "outputs": [],
   "source": [
    "corpus = [dictionary.doc2bow(doc) for doc in tokens]"
   ]
  },
  {
   "cell_type": "code",
   "execution_count": 74,
   "metadata": {},
   "outputs": [
    {
     "name": "stdout",
     "output_type": "stream",
     "text": [
      "huggingface/tokenizers: The current process just got forked, after parallelism has already been used. Disabling parallelism to avoid deadlocks...\n",
      "To disable this warning, you can either:\n",
      "\t- Avoid using `tokenizers` before the fork if possible\n",
      "\t- Explicitly set the environment variable TOKENIZERS_PARALLELISM=(true | false)\n",
      "huggingface/tokenizers: The current process just got forked, after parallelism has already been used. Disabling parallelism to avoid deadlocks...\n",
      "To disable this warning, you can either:\n",
      "\t- Avoid using `tokenizers` before the fork if possible\n",
      "\t- Explicitly set the environment variable TOKENIZERS_PARALLELISM=(true | false)\n",
      "huggingface/tokenizers: The current process just got forked, after parallelism has already been used. Disabling parallelism to avoid deadlocks...\n",
      "To disable this warning, you can either:\n",
      "\t- Avoid using `tokenizers` before the fork if possible\n",
      "\t- Explicitly set the environment variable TOKENIZERS_PARALLELISM=(true | false)\n",
      "huggingface/tokenizers: The current process just got forked, after parallelism has already been used. Disabling parallelism to avoid deadlocks...\n",
      "To disable this warning, you can either:\n",
      "\t- Avoid using `tokenizers` before the fork if possible\n",
      "\t- Explicitly set the environment variable TOKENIZERS_PARALLELISM=(true | false)\n"
     ]
    }
   ],
   "source": [
    "lda_model = LdaMulticore(corpus=corpus, id2word=dictionary, iterations=50, num_topics=10, workers = 4, passes=10)"
   ]
  },
  {
   "cell_type": "code",
   "execution_count": 75,
   "metadata": {},
   "outputs": [],
   "source": [
    "topics = lda_model.print_topics(num_words = 4)"
   ]
  },
  {
   "cell_type": "code",
   "execution_count": 76,
   "metadata": {},
   "outputs": [
    {
     "name": "stdout",
     "output_type": "stream",
     "text": [
      "(0, '0.025*\"salaire\" + 0.025*\"mort\" + 0.025*\"bataille\" + 0.025*\"accès\"')\n",
      "(1, '0.025*\"critique\" + 0.025*\"mort\" + 0.025*\"text\" + 0.025*\"contemporain\"')\n",
      "(2, '0.026*\"concentration\" + 0.025*\"lier\" + 0.025*\"sanitaire\" + 0.025*\"demeure\"')\n",
      "(3, '0.025*\"sanitaire\" + 0.025*\"crise\" + 0.025*\"object\" + 0.025*\"enseigne\"')\n",
      "(4, '0.026*\"saoudien\" + 0.026*\"régime\" + 0.025*\"belge\" + 0.025*\"économique\"')\n",
      "(5, '0.025*\"rapport\" + 0.025*\"accès\" + 0.025*\"fond\" + 0.025*\"mort\"')\n",
      "(6, '0.025*\"hivernal\" + 0.025*\"aimer\" + 0.025*\"compte\" + 0.025*\"régime\"')\n",
      "(7, '0.025*\"length\" + 0.025*\"belge\" + 0.025*\"text\" + 0.025*\"rapport\"')\n",
      "(8, '0.025*\"lier\" + 0.025*\"crise\" + 0.025*\"bataille\" + 0.025*\"bruxellois\"')\n",
      "(9, '0.026*\"text\" + 0.025*\"rel\" + 0.025*\"birmanie\" + 0.025*\"object\"')\n"
     ]
    }
   ],
   "source": [
    "for topic in topics:\n",
    "    print(topic)"
   ]
  },
  {
   "cell_type": "code",
   "execution_count": 115,
   "metadata": {},
   "outputs": [],
   "source": [
    "import pyLDAvis.gensim\n",
    "import pickle\n",
    "LDAvis = pyLDAvis.gensim.prepare(lda_model, corpus, dictionary)\n",
    "path = os.path.join('.results')\n",
    "\n",
    "with open(path, 'wb') as f:\n",
    "    pickle.dump(LDAvis,f)\n",
    "\n",
    "with open(path, 'rb') as f:\n",
    "    LDAvis = pickle.load(f)\n",
    "\n",
    "pyLDAvis.save_html(LDAvis, './results' + '_french_short' + '.html')"
   ]
  },
  {
   "cell_type": "code",
   "execution_count": null,
   "metadata": {},
   "outputs": [],
   "source": []
  },
  {
   "cell_type": "markdown",
   "metadata": {},
   "source": [
    "ROBERTA\n"
   ]
  },
  {
   "cell_type": "code",
   "execution_count": 1,
   "metadata": {},
   "outputs": [],
   "source": [
    "from transformers import AutoTokenizer \n",
    "from transformers import AutoModelForSequenceClassification\n",
    "from scipy.special import softmax"
   ]
  },
  {
   "cell_type": "code",
   "execution_count": 2,
   "metadata": {},
   "outputs": [],
   "source": [
    "Model = f\"abhilash1910/french-roberta\""
   ]
  },
  {
   "cell_type": "code",
   "execution_count": 4,
   "metadata": {},
   "outputs": [],
   "source": [
    "tokenizer = AutoTokenizer.from_pretrained(Model)"
   ]
  },
  {
   "cell_type": "code",
   "execution_count": 5,
   "metadata": {},
   "outputs": [
    {
     "data": {
      "application/vnd.jupyter.widget-view+json": {
       "model_id": "92bc2294ced443aa946cee198a78713a",
       "version_major": 2,
       "version_minor": 0
      },
      "text/plain": [
       "Downloading model.safetensors:   0%|          | 0.00/273M [00:00<?, ?B/s]"
      ]
     },
     "metadata": {},
     "output_type": "display_data"
    },
    {
     "name": "stderr",
     "output_type": "stream",
     "text": [
      "Some weights of RobertaForSequenceClassification were not initialized from the model checkpoint at abhilash1910/french-roberta and are newly initialized: ['classifier.out_proj.weight', 'classifier.dense.bias', 'classifier.dense.weight', 'classifier.out_proj.bias']\n",
      "You should probably TRAIN this model on a down-stream task to be able to use it for predictions and inference.\n"
     ]
    }
   ],
   "source": [
    "model = AutoModelForSequenceClassification.from_pretrained(Model)"
   ]
  },
  {
   "cell_type": "code",
   "execution_count": 16,
   "metadata": {},
   "outputs": [],
   "source": [
    "from transformers import pipeline"
   ]
  },
  {
   "cell_type": "code",
   "execution_count": 17,
   "metadata": {},
   "outputs": [
    {
     "name": "stderr",
     "output_type": "stream",
     "text": [
      "Some weights of RobertaForSequenceClassification were not initialized from the model checkpoint at abhilash1910/french-roberta and are newly initialized: ['classifier.out_proj.weight', 'classifier.dense.bias', 'classifier.dense.weight', 'classifier.out_proj.bias']\n",
      "You should probably TRAIN this model on a down-stream task to be able to use it for predictions and inference.\n"
     ]
    }
   ],
   "source": [
    "pipeline = pipeline(task = 'sentiment-analysis', model = \"abhilash1910/french-roberta\")"
   ]
  },
  {
   "cell_type": "code",
   "execution_count": 18,
   "metadata": {},
   "outputs": [
    {
     "data": {
      "text/plain": [
       "[{'label': 'LABEL_1', 'score': 0.6545210480690002}]"
      ]
     },
     "execution_count": 18,
     "metadata": {},
     "output_type": "execute_result"
    }
   ],
   "source": [
    "pipeline('Internet et la fiabilité dont elles ont tant besoin\", estiment les associés. \"Il répondra à la demande de capacité toujours plus importante au Moyen-Orient et facilitera le déploiement de la 4G, de la 5G et de ')"
   ]
  }
 ],
 "metadata": {
  "kernelspec": {
   "display_name": "Python 3.11.3 ('nlp_env': venv)",
   "language": "python",
   "name": "python3"
  },
  "language_info": {
   "codemirror_mode": {
    "name": "ipython",
    "version": 3
   },
   "file_extension": ".py",
   "mimetype": "text/x-python",
   "name": "python",
   "nbconvert_exporter": "python",
   "pygments_lexer": "ipython3",
   "version": "3.11.3"
  },
  "orig_nbformat": 4,
  "vscode": {
   "interpreter": {
    "hash": "9bd3ed14e90b49bd08368fcba8ccdf7178aebb376bc97a25599cb1e04c3b1d0e"
   }
  }
 },
 "nbformat": 4,
 "nbformat_minor": 2
}
