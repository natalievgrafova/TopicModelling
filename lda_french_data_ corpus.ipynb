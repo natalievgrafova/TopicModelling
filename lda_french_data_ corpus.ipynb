{
 "cells": [
  {
   "cell_type": "code",
   "execution_count": 1,
   "metadata": {},
   "outputs": [],
   "source": [
    "import numpy as np\n",
    "import pandas as pd\n",
    "from collections import defaultdict\n",
    "\n",
    "from gensim import corpora, models\n",
    "from gensim.models import Phrases\n",
    "from gensim.models import CoherenceModel\n",
    "from gensim.models.ldamodel import LdaModel\n",
    "\n",
    "import pyLDAvis\n",
    "import pyLDAvis.gensim_models as gensimvis\n",
    "\n",
    "import matplotlib.pyplot as plt\n",
    "from matplotlib.lines import Line2D\n",
    "import seaborn as sns"
   ]
  },
  {
   "cell_type": "code",
   "execution_count": 2,
   "metadata": {},
   "outputs": [],
   "source": [
    "import spacy"
   ]
  },
  {
   "cell_type": "code",
   "execution_count": 3,
   "metadata": {},
   "outputs": [],
   "source": [
    "import fr_core_news_lg"
   ]
  },
  {
   "cell_type": "code",
   "execution_count": 4,
   "metadata": {},
   "outputs": [],
   "source": [
    "from gensim.corpora.dictionary import Dictionary"
   ]
  },
  {
   "cell_type": "code",
   "execution_count": 5,
   "metadata": {},
   "outputs": [],
   "source": [
    "from gensim.models import LdaMulticore"
   ]
  },
  {
   "cell_type": "code",
   "execution_count": 32,
   "metadata": {},
   "outputs": [],
   "source": [
    "df = pd.read_csv('french_dondata.csv')"
   ]
  },
  {
   "cell_type": "code",
   "execution_count": 35,
   "metadata": {},
   "outputs": [],
   "source": [
    "from langdetect import detect_langs"
   ]
  },
  {
   "cell_type": "code",
   "execution_count": 37,
   "metadata": {},
   "outputs": [],
   "source": [
    "languages = []"
   ]
  },
  {
   "cell_type": "code",
   "execution_count": 38,
   "metadata": {},
   "outputs": [],
   "source": [
    "for row in range(len(df)):\n",
    "    languages.append(detect_langs(df.iloc[row, 3]))"
   ]
  },
  {
   "cell_type": "code",
   "execution_count": 55,
   "metadata": {},
   "outputs": [
    {
     "data": {
      "text/plain": [
       "'fr'"
      ]
     },
     "execution_count": 55,
     "metadata": {},
     "output_type": "execute_result"
    }
   ],
   "source": [
    "str(languages[1]).split(':')[0][1:]"
   ]
  },
  {
   "cell_type": "code",
   "execution_count": 57,
   "metadata": {},
   "outputs": [],
   "source": [
    "langs = [str(lang).split(':')[0][1:] for lang in languages]"
   ]
  },
  {
   "cell_type": "code",
   "execution_count": 56,
   "metadata": {},
   "outputs": [
    {
     "ename": "TypeError",
     "evalue": "list indices must be integers or slices, not list",
     "output_type": "error",
     "traceback": [
      "\u001b[0;31m---------------------------------------------------------------------------\u001b[0m",
      "\u001b[0;31mTypeError\u001b[0m                                 Traceback (most recent call last)",
      "Cell \u001b[0;32mIn[56], line 2\u001b[0m\n\u001b[1;32m      1\u001b[0m \u001b[39mfor\u001b[39;00m i \u001b[39min\u001b[39;00m languages:\n\u001b[0;32m----> 2\u001b[0m     \u001b[39mstr\u001b[39m(languages[i])\u001b[39m.\u001b[39msplit(\u001b[39m'\u001b[39m\u001b[39m:\u001b[39m\u001b[39m'\u001b[39m)[\u001b[39m0\u001b[39m][\u001b[39m1\u001b[39m:]\n",
      "\u001b[0;31mTypeError\u001b[0m: list indices must be integers or slices, not list"
     ]
    }
   ],
   "source": [
    "for i in languages:\n",
    "    str(languages[i]).split(':')[0][1:]"
   ]
  },
  {
   "cell_type": "code",
   "execution_count": 58,
   "metadata": {},
   "outputs": [],
   "source": [
    "df['langs'] = langs"
   ]
  },
  {
   "cell_type": "code",
   "execution_count": 59,
   "metadata": {},
   "outputs": [
    {
     "data": {
      "text/html": [
       "<div>\n",
       "<style scoped>\n",
       "    .dataframe tbody tr th:only-of-type {\n",
       "        vertical-align: middle;\n",
       "    }\n",
       "\n",
       "    .dataframe tbody tr th {\n",
       "        vertical-align: top;\n",
       "    }\n",
       "\n",
       "    .dataframe thead th {\n",
       "        text-align: right;\n",
       "    }\n",
       "</style>\n",
       "<table border=\"1\" class=\"dataframe\">\n",
       "  <thead>\n",
       "    <tr style=\"text-align: right;\">\n",
       "      <th></th>\n",
       "      <th>_id</th>\n",
       "      <th>url</th>\n",
       "      <th>date</th>\n",
       "      <th>text</th>\n",
       "      <th>title</th>\n",
       "      <th>langs</th>\n",
       "    </tr>\n",
       "  </thead>\n",
       "  <tbody>\n",
       "    <tr>\n",
       "      <th>0</th>\n",
       "      <td>5ec760320e5c92500d004aee</td>\n",
       "      <td>https://plus.lesoir.be/302282/article/2020-05-...</td>\n",
       "      <td>2020-05-22T04:22:52.000Z</td>\n",
       "      <td>Les concentrations de différents polluants rel...</td>\n",
       "      <td>La qualité de l’air en nette amélioration à Br...</td>\n",
       "      <td>fr</td>\n",
       "    </tr>\n",
       "    <tr>\n",
       "      <th>1</th>\n",
       "      <td>5ec7603216193c3860cf1616</td>\n",
       "      <td>https://www.rtbf.be/info/regions/detail_corona...</td>\n",
       "      <td>2020-05-22T04:37:03.000Z</td>\n",
       "      <td>L’amélioration de la qualité de l’air bruxello...</td>\n",
       "      <td>Coronavirus à Bruxelles : on respire mieux grâ...</td>\n",
       "      <td>fr</td>\n",
       "    </tr>\n",
       "    <tr>\n",
       "      <th>2</th>\n",
       "      <td>5ec76032039b233f9642aeb6</td>\n",
       "      <td>https://plus.lesoir.be/302121/article/2020-05-...</td>\n",
       "      <td>2020-05-20T19:36:26.000Z</td>\n",
       "      <td>La résolution pose plusieurs principes tel que...</td>\n",
       "      <td>La Chambre vote une résolution encadrant l’usa...</td>\n",
       "      <td>fr</td>\n",
       "    </tr>\n",
       "    <tr>\n",
       "      <th>3</th>\n",
       "      <td>5ec760320e5c92500d004af3</td>\n",
       "      <td>https://plus.lesoir.be/302273/article/2020-05-...</td>\n",
       "      <td>2020-05-21T21:01:32.000Z</td>\n",
       "      <td>Le nouveau coronavirus a officiellement touché...</td>\n",
       "      <td>Plus de cinq millions de cas de Covid-19 dans ...</td>\n",
       "      <td>fr</td>\n",
       "    </tr>\n",
       "    <tr>\n",
       "      <th>4</th>\n",
       "      <td>5ec7603216193c3860cf161f</td>\n",
       "      <td>https://www.rtbf.be/info/economie/detail_coron...</td>\n",
       "      <td>2020-05-22T04:00:00.000Z</td>\n",
       "      <td>Les résultats d’une enquête menée par le prest...</td>\n",
       "      <td>Coronavirus en Belgique : les ouvriers plus to...</td>\n",
       "      <td>fr</td>\n",
       "    </tr>\n",
       "  </tbody>\n",
       "</table>\n",
       "</div>"
      ],
      "text/plain": [
       "                        _id  \\\n",
       "0  5ec760320e5c92500d004aee   \n",
       "1  5ec7603216193c3860cf1616   \n",
       "2  5ec76032039b233f9642aeb6   \n",
       "3  5ec760320e5c92500d004af3   \n",
       "4  5ec7603216193c3860cf161f   \n",
       "\n",
       "                                                 url  \\\n",
       "0  https://plus.lesoir.be/302282/article/2020-05-...   \n",
       "1  https://www.rtbf.be/info/regions/detail_corona...   \n",
       "2  https://plus.lesoir.be/302121/article/2020-05-...   \n",
       "3  https://plus.lesoir.be/302273/article/2020-05-...   \n",
       "4  https://www.rtbf.be/info/economie/detail_coron...   \n",
       "\n",
       "                       date  \\\n",
       "0  2020-05-22T04:22:52.000Z   \n",
       "1  2020-05-22T04:37:03.000Z   \n",
       "2  2020-05-20T19:36:26.000Z   \n",
       "3  2020-05-21T21:01:32.000Z   \n",
       "4  2020-05-22T04:00:00.000Z   \n",
       "\n",
       "                                                text  \\\n",
       "0  Les concentrations de différents polluants rel...   \n",
       "1  L’amélioration de la qualité de l’air bruxello...   \n",
       "2  La résolution pose plusieurs principes tel que...   \n",
       "3  Le nouveau coronavirus a officiellement touché...   \n",
       "4  Les résultats d’une enquête menée par le prest...   \n",
       "\n",
       "                                               title langs  \n",
       "0  La qualité de l’air en nette amélioration à Br...    fr  \n",
       "1  Coronavirus à Bruxelles : on respire mieux grâ...    fr  \n",
       "2  La Chambre vote une résolution encadrant l’usa...    fr  \n",
       "3  Plus de cinq millions de cas de Covid-19 dans ...    fr  \n",
       "4  Coronavirus en Belgique : les ouvriers plus to...    fr  "
      ]
     },
     "execution_count": 59,
     "metadata": {},
     "output_type": "execute_result"
    }
   ],
   "source": [
    "df.head()"
   ]
  },
  {
   "cell_type": "code",
   "execution_count": 67,
   "metadata": {},
   "outputs": [
    {
     "data": {
      "text/plain": [
       "array(['fr', 'nl', 'af', 'es', 'en', 'de', 'bg'], dtype=object)"
      ]
     },
     "execution_count": 67,
     "metadata": {},
     "output_type": "execute_result"
    }
   ],
   "source": [
    "df['langs'].unique()"
   ]
  },
  {
   "cell_type": "code",
   "execution_count": 68,
   "metadata": {},
   "outputs": [
    {
     "data": {
      "text/plain": [
       "_id      8341\n",
       "url      8341\n",
       "date     8341\n",
       "text     8341\n",
       "title    8341\n",
       "langs    8341\n",
       "dtype: int64"
      ]
     },
     "execution_count": 68,
     "metadata": {},
     "output_type": "execute_result"
    }
   ],
   "source": [
    "df.loc[df['langs'] == 'nl'].count()"
   ]
  },
  {
   "cell_type": "code",
   "execution_count": 72,
   "metadata": {},
   "outputs": [
    {
     "data": {
      "text/html": [
       "<div>\n",
       "<style scoped>\n",
       "    .dataframe tbody tr th:only-of-type {\n",
       "        vertical-align: middle;\n",
       "    }\n",
       "\n",
       "    .dataframe tbody tr th {\n",
       "        vertical-align: top;\n",
       "    }\n",
       "\n",
       "    .dataframe thead th {\n",
       "        text-align: right;\n",
       "    }\n",
       "</style>\n",
       "<table border=\"1\" class=\"dataframe\">\n",
       "  <thead>\n",
       "    <tr style=\"text-align: right;\">\n",
       "      <th></th>\n",
       "      <th>_id</th>\n",
       "      <th>url</th>\n",
       "      <th>date</th>\n",
       "      <th>text</th>\n",
       "      <th>title</th>\n",
       "      <th>langs</th>\n",
       "    </tr>\n",
       "  </thead>\n",
       "  <tbody>\n",
       "    <tr>\n",
       "      <th>2256</th>\n",
       "      <td>5ee851fde19d4149947f48e8</td>\n",
       "      <td>https://www.hln.be/de-krant/waar-halen-ze-de-c...</td>\n",
       "      <td>2020-06-15T22:00:00.000Z</td>\n",
       "      <td>sport, sportdiscipline, Andrew, Barcelona, CCC...</td>\n",
       "      <td>Waar halen ze de centen?</td>\n",
       "      <td>es</td>\n",
       "    </tr>\n",
       "    <tr>\n",
       "      <th>2267</th>\n",
       "      <td>5ee88a3c25eb8a005251b29c</td>\n",
       "      <td>https://www.hln.be/sport/wielrennen/nieuwe-spo...</td>\n",
       "      <td>2020-06-16T05:47:00.000Z</td>\n",
       "      <td>sport, sportdiscipline, Andrew, Barcelona, CCC...</td>\n",
       "      <td>Nieuwe sponsor van Mitchelton-Scott roept vrag...</td>\n",
       "      <td>es</td>\n",
       "    </tr>\n",
       "  </tbody>\n",
       "</table>\n",
       "</div>"
      ],
      "text/plain": [
       "                           _id  \\\n",
       "2256  5ee851fde19d4149947f48e8   \n",
       "2267  5ee88a3c25eb8a005251b29c   \n",
       "\n",
       "                                                    url  \\\n",
       "2256  https://www.hln.be/de-krant/waar-halen-ze-de-c...   \n",
       "2267  https://www.hln.be/sport/wielrennen/nieuwe-spo...   \n",
       "\n",
       "                          date  \\\n",
       "2256  2020-06-15T22:00:00.000Z   \n",
       "2267  2020-06-16T05:47:00.000Z   \n",
       "\n",
       "                                                   text  \\\n",
       "2256  sport, sportdiscipline, Andrew, Barcelona, CCC...   \n",
       "2267  sport, sportdiscipline, Andrew, Barcelona, CCC...   \n",
       "\n",
       "                                                  title langs  \n",
       "2256                           Waar halen ze de centen?    es  \n",
       "2267  Nieuwe sponsor van Mitchelton-Scott roept vrag...    es  "
      ]
     },
     "execution_count": 72,
     "metadata": {},
     "output_type": "execute_result"
    }
   ],
   "source": [
    "df.loc[df['langs'] == 'es'].head()"
   ]
  },
  {
   "cell_type": "code",
   "execution_count": 63,
   "metadata": {},
   "outputs": [],
   "source": [
    "df_fr = df.loc[df['langs'] == 'fr']"
   ]
  },
  {
   "cell_type": "code",
   "execution_count": 64,
   "metadata": {},
   "outputs": [
    {
     "name": "stdout",
     "output_type": "stream",
     "text": [
      "<class 'pandas.core.frame.DataFrame'>\n",
      "Index: 69024 entries, 0 to 77380\n",
      "Data columns (total 6 columns):\n",
      " #   Column  Non-Null Count  Dtype \n",
      "---  ------  --------------  ----- \n",
      " 0   _id     69024 non-null  object\n",
      " 1   url     69024 non-null  object\n",
      " 2   date    69024 non-null  object\n",
      " 3   text    69024 non-null  object\n",
      " 4   title   69024 non-null  object\n",
      " 5   langs   69024 non-null  object\n",
      "dtypes: object(6)\n",
      "memory usage: 3.7+ MB\n"
     ]
    }
   ],
   "source": [
    "df_fr.info()"
   ]
  },
  {
   "cell_type": "code",
   "execution_count": 34,
   "metadata": {},
   "outputs": [
    {
     "data": {
      "text/html": [
       "<div>\n",
       "<style scoped>\n",
       "    .dataframe tbody tr th:only-of-type {\n",
       "        vertical-align: middle;\n",
       "    }\n",
       "\n",
       "    .dataframe tbody tr th {\n",
       "        vertical-align: top;\n",
       "    }\n",
       "\n",
       "    .dataframe thead th {\n",
       "        text-align: right;\n",
       "    }\n",
       "</style>\n",
       "<table border=\"1\" class=\"dataframe\">\n",
       "  <thead>\n",
       "    <tr style=\"text-align: right;\">\n",
       "      <th></th>\n",
       "      <th>_id</th>\n",
       "      <th>url</th>\n",
       "      <th>date</th>\n",
       "      <th>text</th>\n",
       "      <th>title</th>\n",
       "    </tr>\n",
       "  </thead>\n",
       "  <tbody>\n",
       "    <tr>\n",
       "      <th>0</th>\n",
       "      <td>5ec760320e5c92500d004aee</td>\n",
       "      <td>https://plus.lesoir.be/302282/article/2020-05-...</td>\n",
       "      <td>2020-05-22T04:22:52.000Z</td>\n",
       "      <td>Les concentrations de différents polluants rel...</td>\n",
       "      <td>La qualité de l’air en nette amélioration à Br...</td>\n",
       "    </tr>\n",
       "    <tr>\n",
       "      <th>1</th>\n",
       "      <td>5ec7603216193c3860cf1616</td>\n",
       "      <td>https://www.rtbf.be/info/regions/detail_corona...</td>\n",
       "      <td>2020-05-22T04:37:03.000Z</td>\n",
       "      <td>L’amélioration de la qualité de l’air bruxello...</td>\n",
       "      <td>Coronavirus à Bruxelles : on respire mieux grâ...</td>\n",
       "    </tr>\n",
       "    <tr>\n",
       "      <th>2</th>\n",
       "      <td>5ec76032039b233f9642aeb6</td>\n",
       "      <td>https://plus.lesoir.be/302121/article/2020-05-...</td>\n",
       "      <td>2020-05-20T19:36:26.000Z</td>\n",
       "      <td>La résolution pose plusieurs principes tel que...</td>\n",
       "      <td>La Chambre vote une résolution encadrant l’usa...</td>\n",
       "    </tr>\n",
       "    <tr>\n",
       "      <th>3</th>\n",
       "      <td>5ec760320e5c92500d004af3</td>\n",
       "      <td>https://plus.lesoir.be/302273/article/2020-05-...</td>\n",
       "      <td>2020-05-21T21:01:32.000Z</td>\n",
       "      <td>Le nouveau coronavirus a officiellement touché...</td>\n",
       "      <td>Plus de cinq millions de cas de Covid-19 dans ...</td>\n",
       "    </tr>\n",
       "    <tr>\n",
       "      <th>4</th>\n",
       "      <td>5ec7603216193c3860cf161f</td>\n",
       "      <td>https://www.rtbf.be/info/economie/detail_coron...</td>\n",
       "      <td>2020-05-22T04:00:00.000Z</td>\n",
       "      <td>Les résultats d’une enquête menée par le prest...</td>\n",
       "      <td>Coronavirus en Belgique : les ouvriers plus to...</td>\n",
       "    </tr>\n",
       "  </tbody>\n",
       "</table>\n",
       "</div>"
      ],
      "text/plain": [
       "                        _id  \\\n",
       "0  5ec760320e5c92500d004aee   \n",
       "1  5ec7603216193c3860cf1616   \n",
       "2  5ec76032039b233f9642aeb6   \n",
       "3  5ec760320e5c92500d004af3   \n",
       "4  5ec7603216193c3860cf161f   \n",
       "\n",
       "                                                 url  \\\n",
       "0  https://plus.lesoir.be/302282/article/2020-05-...   \n",
       "1  https://www.rtbf.be/info/regions/detail_corona...   \n",
       "2  https://plus.lesoir.be/302121/article/2020-05-...   \n",
       "3  https://plus.lesoir.be/302273/article/2020-05-...   \n",
       "4  https://www.rtbf.be/info/economie/detail_coron...   \n",
       "\n",
       "                       date  \\\n",
       "0  2020-05-22T04:22:52.000Z   \n",
       "1  2020-05-22T04:37:03.000Z   \n",
       "2  2020-05-20T19:36:26.000Z   \n",
       "3  2020-05-21T21:01:32.000Z   \n",
       "4  2020-05-22T04:00:00.000Z   \n",
       "\n",
       "                                                text  \\\n",
       "0  Les concentrations de différents polluants rel...   \n",
       "1  L’amélioration de la qualité de l’air bruxello...   \n",
       "2  La résolution pose plusieurs principes tel que...   \n",
       "3  Le nouveau coronavirus a officiellement touché...   \n",
       "4  Les résultats d’une enquête menée par le prest...   \n",
       "\n",
       "                                               title  \n",
       "0  La qualité de l’air en nette amélioration à Br...  \n",
       "1  Coronavirus à Bruxelles : on respire mieux grâ...  \n",
       "2  La Chambre vote une résolution encadrant l’usa...  \n",
       "3  Plus de cinq millions de cas de Covid-19 dans ...  \n",
       "4  Coronavirus en Belgique : les ouvriers plus to...  "
      ]
     },
     "execution_count": 34,
     "metadata": {},
     "output_type": "execute_result"
    }
   ],
   "source": [
    "df.head()\n"
   ]
  },
  {
   "cell_type": "markdown",
   "metadata": {},
   "source": [
    "1. Filtering and tokenizing\n"
   ]
  },
  {
   "cell_type": "code",
   "execution_count": 74,
   "metadata": {},
   "outputs": [],
   "source": [
    "key_words = ['données', 'data', 'sport','politique' ]"
   ]
  },
  {
   "cell_type": "code",
   "execution_count": 77,
   "metadata": {},
   "outputs": [],
   "source": [
    "test_a = []\n",
    "for row in range(len(df_fr)):\n",
    "    if any(word in str(df_fr.iloc[row, 3]) for word in key_words):\n",
    "        test_a.append(str(df_fr.iloc[row, 3]))"
   ]
  },
  {
   "cell_type": "code",
   "execution_count": 78,
   "metadata": {},
   "outputs": [
    {
     "data": {
      "text/plain": [
       "68511"
      ]
     },
     "execution_count": 78,
     "metadata": {},
     "output_type": "execute_result"
    }
   ],
   "source": [
    "len(test_a)"
   ]
  },
  {
   "cell_type": "code",
   "execution_count": 52,
   "metadata": {},
   "outputs": [],
   "source": [
    "for i in list: \n",
    "    str(i)"
   ]
  },
  {
   "cell_type": "code",
   "execution_count": 79,
   "metadata": {},
   "outputs": [],
   "source": [
    "nlp = fr_core_news_lg.load() #spacy"
   ]
  },
  {
   "cell_type": "code",
   "execution_count": 80,
   "metadata": {},
   "outputs": [],
   "source": [
    "remove_tagged= ['ADV','PRON','CCONJ','PUNCT','PART','DET','ADP','SPACE', 'NUM', 'SYM']\n"
   ]
  },
  {
   "cell_type": "code",
   "execution_count": 85,
   "metadata": {},
   "outputs": [
    {
     "data": {
      "text/plain": [
       "'L’amélioration de la qualité de l’air bruxellois au terme d’un mois et demi de confinement se traduit par une baisse des concentrations de monoxyde d’azote allant jusqu’à 75% dans les sites habituellement fortement exposés aux émissions du trafic automobile, selon des rapports de Bruxelles Environnement présentés vendredi par le cabinet du ministre régional Alain Maron.\\\\n\\\\nLes concentrations de polluants relevées dans différentes stations de mesures caractéristiques d’un certain trafic (comme la station Arts-Loi ou la station Uccle) du 19 mars au 19 avril, puis sur une période étendue au 3 mai dans un second rapport, ont été comparées aux données de 2010-2019. Les conditions météorologiques, qui influent sur la dispersion des polluants, ont été considérées comme similaires, voire légèrement meilleures, à celle d’un mois de mars ou d’avril \"normal\".\\\\n\\\\n►►► À lire aussi : Meurtres, accidents de la route, pollution… En Asie, le confinement a sauvé des vies\\\\n\\\\nDans les stations fortement exposées au trafic, le monoxyde d’azote (NO), qui reste localisé près de ses sources d’émission, a diminué de 75% et le dioxyde de carbone (NO2) de 50%. Ce dernier a des effets nocifs sur les voies respiratoires et l’environnement. Sa concentration diminue au fil des années, mais dépasse encore habituellement la limite européenne de 40 microgrammes/m3 dans des stations de mesure au trafic élevé à Bruxelles.\\\\n\\\\nDans les stations peu exposées, la concentration de NO a baissé de 30% et celle de NO2 de 40%. \"Le NO2 étant un polluant susceptible d’être transporté sur de grandes distances (au contraire du NO), ces valeurs démontrent que la pollution importée en Région bruxelloise a également diminué significativement\", commente le chef du laboratoire Qualité de l’air à Bruxelles Environnement, Olivier Brasseur. \"Il s’agit plus que probablement d’un effet lié aux mesures de confinement prises en Belgique et dans les pays limitrophes.\"\\\\n\\\\n►►► À lire aussi : Confinement à Paris : la qualité de l’air s’est bien améliorée pendant le confinement\\\\n\\\\nLe black carbon, un composé particulaire inférieur à 0,5 µm qui est avant tout lié au trafic routier, a chuté avec lui pendant le confinement. En comparant les dimanches et les jours ouvrés, il est admis que les voitures pourraient expliquer 15 à 25% des concentrations de PM10 (moins de 10 µm) et 5% des concentrations de PM2.5 (inférieures à 2,5 µm), plus dangereuses pour la santé. En adoptant un raisonnement simplifié, l’impact des mesures Covid-19 serait de l’ordre de 10% pour les PM10 et 2% pour les PM2.5.\\\\n\\\\nCependant, les concentrations en particules fines pendant le confinement étaient globalement équivalentes, voire supérieures, aux valeurs normales. L’étude avance que le peu de jours de pluie a contribué à la remise en suspension des particules, que le vent venant du nord-est a pu transporter des particules fines sur de longues distances et que l’épandage qui a cours en mars-avril a pu avoir des conséquences, mais les gens étant restés chez eux avec le confinement alors qu’il y a eu des jours de froid, l’impact du chauffage pourrait aussi être intéressant à évaluer.'"
      ]
     },
     "execution_count": 85,
     "metadata": {},
     "output_type": "execute_result"
    }
   ],
   "source": [
    "test_a[1]"
   ]
  },
  {
   "cell_type": "code",
   "execution_count": 83,
   "metadata": {},
   "outputs": [],
   "source": [
    "list = test_a[:9999]"
   ]
  },
  {
   "cell_type": "code",
   "execution_count": 84,
   "metadata": {},
   "outputs": [],
   "source": [
    "tokens = []\n",
    "for text in nlp.pipe(list):\n",
    "   proj_tok = [token.lemma_.lower() for token in text if token.pos_ not in remove_tagged and not token.is_stop and token.is_alpha]\n",
    "   tokens.append(proj_tok)"
   ]
  },
  {
   "cell_type": "code",
   "execution_count": 86,
   "metadata": {},
   "outputs": [
    {
     "data": {
      "text/plain": [
       "['amélioration', 'qualité', 'air']"
      ]
     },
     "execution_count": 86,
     "metadata": {},
     "output_type": "execute_result"
    }
   ],
   "source": [
    "tokens[1][:3]"
   ]
  },
  {
   "cell_type": "code",
   "execution_count": 87,
   "metadata": {},
   "outputs": [],
   "source": [
    "test_tokens = tokens"
   ]
  },
  {
   "cell_type": "code",
   "execution_count": 91,
   "metadata": {},
   "outputs": [
    {
     "data": {
      "text/plain": [
       "['amélioration', 'qualité', 'air']"
      ]
     },
     "execution_count": 91,
     "metadata": {},
     "output_type": "execute_result"
    }
   ],
   "source": [
    "test_tokens[1][:3]"
   ]
  },
  {
   "cell_type": "markdown",
   "metadata": {},
   "source": [
    "#Removing infrequent words\n",
    "frequency = defaultdict(int)\n",
    "for text in test_tokens:\n",
    "    for token in text:\n",
    "        frequency[token] += 1\n",
    "\n",
    "\n",
    "test_tokens = [[token for token in text if frequency[token] > 1]\n",
    "         for text in test_tokens]"
   ]
  },
  {
   "cell_type": "code",
   "execution_count": 83,
   "metadata": {},
   "outputs": [],
   "source": [
    "#Removing infrequent words\n",
    "frequency = defaultdict(int)\n",
    "for text in test_tokens:\n",
    "    for token in text:\n",
    "        frequency[token] += 1\n",
    "\n",
    "\n",
    "test_tokens = [[token for token in text if frequency[token] > 1]\n",
    "         for text in test_tokens]"
   ]
  },
  {
   "cell_type": "code",
   "execution_count": 86,
   "metadata": {},
   "outputs": [
    {
     "data": {
      "text/plain": [
       "596"
      ]
     },
     "execution_count": 86,
     "metadata": {},
     "output_type": "execute_result"
    }
   ],
   "source": [
    "len(tokens[1])\n",
    "len(test_tokens[1])"
   ]
  },
  {
   "cell_type": "code",
   "execution_count": 110,
   "metadata": {},
   "outputs": [],
   "source": [
    "#Adding bigrams\n",
    "bigram = Phrases(test_tokens, min_count=20) #gensim\n",
    "for idx in range(len(test_tokens)):\n",
    "    for token in bigram[test_tokens[idx]]:\n",
    "        if '_' in token:\n",
    "            # Token is a bigram, add to document.\n",
    "            test_tokens[idx].append(token)"
   ]
  },
  {
   "cell_type": "code",
   "execution_count": 108,
   "metadata": {},
   "outputs": [
    {
     "data": {
      "text/plain": [
       "115"
      ]
     },
     "execution_count": 108,
     "metadata": {},
     "output_type": "execute_result"
    }
   ],
   "source": [
    "len(tokens[55])"
   ]
  },
  {
   "cell_type": "code",
   "execution_count": 111,
   "metadata": {},
   "outputs": [
    {
     "data": {
      "text/plain": [
       "122"
      ]
     },
     "execution_count": 111,
     "metadata": {},
     "output_type": "execute_result"
    }
   ],
   "source": [
    "len(test_tokens[55])"
   ]
  },
  {
   "cell_type": "code",
   "execution_count": 124,
   "metadata": {},
   "outputs": [],
   "source": [
    "test_dictionary = Dictionary(test_tokens)"
   ]
  },
  {
   "cell_type": "code",
   "execution_count": 125,
   "metadata": {},
   "outputs": [],
   "source": [
    "test_dictionary.filter_extremes(no_below=5, no_above=0.5, keep_n=1000)"
   ]
  },
  {
   "cell_type": "code",
   "execution_count": 126,
   "metadata": {},
   "outputs": [],
   "source": [
    "test_corpus = [test_dictionary.doc2bow(doc) for doc in test_tokens]"
   ]
  },
  {
   "cell_type": "code",
   "execution_count": 115,
   "metadata": {},
   "outputs": [],
   "source": [
    "#Tf-Idf for word frequency filter \n",
    "\\\\\\\\\\\\\\\\\\\\\\\n",
    "from gensim.models.tfidfmodel import TfidfModel\n",
    "tfidf = TfidfModel(test_corpus)\n",
    "tfidf = TfidfModel(test_corpus, id2word = test_dictionary)\n",
    "low_value = 0.2\n",
    "low_value_words = []\n",
    "for bow in test_corpus:\n",
    "    low_value_words += [id for id, value in tfidf[bow] if value < low_value]\n",
    "test_dictionary.filter_tokens(bad_ids=low_value_words) \\\\\\\\\\\\\\\\\\\\\\\\\\\\\\\\\\\n",
    "new_corpus = [test_dictionary.doc2bow(doc) for doc in test_tokens]"
   ]
  },
  {
   "cell_type": "code",
   "execution_count": 127,
   "metadata": {},
   "outputs": [
    {
     "data": {
      "text/plain": [
       "81"
      ]
     },
     "execution_count": 127,
     "metadata": {},
     "output_type": "execute_result"
    }
   ],
   "source": [
    "len(test_corpus[1])"
   ]
  },
  {
   "cell_type": "code",
   "execution_count": null,
   "metadata": {},
   "outputs": [],
   "source": []
  },
  {
   "cell_type": "code",
   "execution_count": 131,
   "metadata": {},
   "outputs": [],
   "source": [
    "test_lda = LdaMulticore(corpus=test_corpus, id2word=test_dictionary, iterations=50, num_topics=4, workers = 4, passes=10)"
   ]
  },
  {
   "cell_type": "code",
   "execution_count": 132,
   "metadata": {},
   "outputs": [],
   "source": [
    "import pickle\n",
    "import pyLDAvis.gensim\n",
    "\n",
    "LDAvis = pyLDAvis.gensim.prepare(test_lda, test_corpus, test_dictionary)\n",
    "path = os.path.join('.results')\n",
    "\n",
    "with open(path, 'wb') as f:\n",
    "    pickle.dump(LDAvis,f)\n",
    "\n",
    "with open(path, 'rb') as f:\n",
    "    LDAvis = pickle.load(f)\n",
    "\n",
    "pyLDAvis.save_html(LDAvis, './results' + '_french_data_thursday' + '.html')"
   ]
  }
 ],
 "metadata": {
  "kernelspec": {
   "display_name": "Python 3.11.3 ('nlp_env': venv)",
   "language": "python",
   "name": "python3"
  },
  "language_info": {
   "codemirror_mode": {
    "name": "ipython",
    "version": 3
   },
   "file_extension": ".py",
   "mimetype": "text/x-python",
   "name": "python",
   "nbconvert_exporter": "python",
   "pygments_lexer": "ipython3",
   "version": "3.11.3"
  },
  "orig_nbformat": 4,
  "vscode": {
   "interpreter": {
    "hash": "9bd3ed14e90b49bd08368fcba8ccdf7178aebb376bc97a25599cb1e04c3b1d0e"
   }
  }
 },
 "nbformat": 4,
 "nbformat_minor": 2
}
