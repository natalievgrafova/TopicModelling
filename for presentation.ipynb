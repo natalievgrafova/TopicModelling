{
 "cells": [
  {
   "cell_type": "code",
   "execution_count": 2,
   "metadata": {},
   "outputs": [],
   "source": [
    "import pandas as pd"
   ]
  },
  {
   "cell_type": "code",
   "execution_count": 15,
   "metadata": {},
   "outputs": [
    {
     "ename": "ModuleNotFoundError",
     "evalue": "No module named 'textblob'",
     "output_type": "error",
     "traceback": [
      "\u001b[0;31m---------------------------------------------------------------------------\u001b[0m",
      "\u001b[0;31mModuleNotFoundError\u001b[0m                       Traceback (most recent call last)",
      "Cell \u001b[0;32mIn[15], line 1\u001b[0m\n\u001b[0;32m----> 1\u001b[0m \u001b[39mfrom\u001b[39;00m \u001b[39mtextblob\u001b[39;00m \u001b[39mimport\u001b[39;00m TextBlob \n\u001b[1;32m      2\u001b[0m \u001b[39mfrom\u001b[39;00m \u001b[39mtextblob\u001b[39;00m \u001b[39mimport\u001b[39;00m Blobber\n\u001b[1;32m      3\u001b[0m \u001b[39mfrom\u001b[39;00m \u001b[39mtextblob_fr\u001b[39;00m \u001b[39mimport\u001b[39;00m PatternTagger, PatternAnalyzer\n",
      "\u001b[0;31mModuleNotFoundError\u001b[0m: No module named 'textblob'"
     ]
    }
   ],
   "source": [
    "from textblob import TextBlob \n",
    "from textblob import Blobber\n",
    "from textblob_fr import PatternTagger, PatternAnalyzer\n",
    "tb_fr = Blobber(pos_tagger=PatternTagger(), analyzer=PatternAnalyzer())\n",
    "tb_nl = Blobber(pos_tagger=PatternTagger(), analyzer=PatternAnalyzer())"
   ]
  },
  {
   "cell_type": "code",
   "execution_count": 3,
   "metadata": {},
   "outputs": [],
   "source": [
    "df = pd.read_csv('clean_french_data.csv')"
   ]
  },
  {
   "cell_type": "code",
   "execution_count": 4,
   "metadata": {},
   "outputs": [],
   "source": [
    "df = df[['title', 'text', 'date', 'url', '_id']]"
   ]
  },
  {
   "cell_type": "code",
   "execution_count": 5,
   "metadata": {},
   "outputs": [
    {
     "data": {
      "text/html": [
       "<div>\n",
       "<style scoped>\n",
       "    .dataframe tbody tr th:only-of-type {\n",
       "        vertical-align: middle;\n",
       "    }\n",
       "\n",
       "    .dataframe tbody tr th {\n",
       "        vertical-align: top;\n",
       "    }\n",
       "\n",
       "    .dataframe thead th {\n",
       "        text-align: right;\n",
       "    }\n",
       "</style>\n",
       "<table border=\"1\" class=\"dataframe\">\n",
       "  <thead>\n",
       "    <tr style=\"text-align: right;\">\n",
       "      <th></th>\n",
       "      <th>title</th>\n",
       "      <th>text</th>\n",
       "      <th>date</th>\n",
       "      <th>url</th>\n",
       "      <th>_id</th>\n",
       "    </tr>\n",
       "  </thead>\n",
       "  <tbody>\n",
       "    <tr>\n",
       "      <th>0</th>\n",
       "      <td>La qualité de l’air en nette amélioration à Br...</td>\n",
       "      <td>Les concentrations de différents polluants rel...</td>\n",
       "      <td>2020-05-22T04:22:52.000Z</td>\n",
       "      <td>https://plus.lesoir.be/302282/article/2020-05-...</td>\n",
       "      <td>5ec760320e5c92500d004aee</td>\n",
       "    </tr>\n",
       "    <tr>\n",
       "      <th>1</th>\n",
       "      <td>Coronavirus à Bruxelles : on respire mieux grâ...</td>\n",
       "      <td>L’amélioration de la qualité de l’air bruxello...</td>\n",
       "      <td>2020-05-22T04:37:03.000Z</td>\n",
       "      <td>https://www.rtbf.be/info/regions/detail_corona...</td>\n",
       "      <td>5ec7603216193c3860cf1616</td>\n",
       "    </tr>\n",
       "    <tr>\n",
       "      <th>2</th>\n",
       "      <td>La Chambre vote une résolution encadrant l’usa...</td>\n",
       "      <td>La résolution pose plusieurs principes tel que...</td>\n",
       "      <td>2020-05-20T19:36:26.000Z</td>\n",
       "      <td>https://plus.lesoir.be/302121/article/2020-05-...</td>\n",
       "      <td>5ec76032039b233f9642aeb6</td>\n",
       "    </tr>\n",
       "    <tr>\n",
       "      <th>3</th>\n",
       "      <td>Plus de cinq millions de cas de Covid-19 dans ...</td>\n",
       "      <td>Le nouveau coronavirus a officiellement touché...</td>\n",
       "      <td>2020-05-21T21:01:32.000Z</td>\n",
       "      <td>https://plus.lesoir.be/302273/article/2020-05-...</td>\n",
       "      <td>5ec760320e5c92500d004af3</td>\n",
       "    </tr>\n",
       "    <tr>\n",
       "      <th>4</th>\n",
       "      <td>Coronavirus en Belgique : les ouvriers plus to...</td>\n",
       "      <td>Les résultats d’une enquête menée par le prest...</td>\n",
       "      <td>2020-05-22T04:00:00.000Z</td>\n",
       "      <td>https://www.rtbf.be/info/economie/detail_coron...</td>\n",
       "      <td>5ec7603216193c3860cf161f</td>\n",
       "    </tr>\n",
       "  </tbody>\n",
       "</table>\n",
       "</div>"
      ],
      "text/plain": [
       "                                               title  \\\n",
       "0  La qualité de l’air en nette amélioration à Br...   \n",
       "1  Coronavirus à Bruxelles : on respire mieux grâ...   \n",
       "2  La Chambre vote une résolution encadrant l’usa...   \n",
       "3  Plus de cinq millions de cas de Covid-19 dans ...   \n",
       "4  Coronavirus en Belgique : les ouvriers plus to...   \n",
       "\n",
       "                                                text  \\\n",
       "0  Les concentrations de différents polluants rel...   \n",
       "1  L’amélioration de la qualité de l’air bruxello...   \n",
       "2  La résolution pose plusieurs principes tel que...   \n",
       "3  Le nouveau coronavirus a officiellement touché...   \n",
       "4  Les résultats d’une enquête menée par le prest...   \n",
       "\n",
       "                       date  \\\n",
       "0  2020-05-22T04:22:52.000Z   \n",
       "1  2020-05-22T04:37:03.000Z   \n",
       "2  2020-05-20T19:36:26.000Z   \n",
       "3  2020-05-21T21:01:32.000Z   \n",
       "4  2020-05-22T04:00:00.000Z   \n",
       "\n",
       "                                                 url                       _id  \n",
       "0  https://plus.lesoir.be/302282/article/2020-05-...  5ec760320e5c92500d004aee  \n",
       "1  https://www.rtbf.be/info/regions/detail_corona...  5ec7603216193c3860cf1616  \n",
       "2  https://plus.lesoir.be/302121/article/2020-05-...  5ec76032039b233f9642aeb6  \n",
       "3  https://plus.lesoir.be/302273/article/2020-05-...  5ec760320e5c92500d004af3  \n",
       "4  https://www.rtbf.be/info/economie/detail_coron...  5ec7603216193c3860cf161f  "
      ]
     },
     "execution_count": 5,
     "metadata": {},
     "output_type": "execute_result"
    }
   ],
   "source": [
    "df.head()"
   ]
  },
  {
   "cell_type": "code",
   "execution_count": 6,
   "metadata": {},
   "outputs": [],
   "source": [
    "key_words_data = ['données personnelles','base des données', 'confidentialité','partager des données', 'accès aux données', 'réutilisation des données', 'utilisation des données', 'analyse des données', 'usage des données', 'protection des données']"
   ]
  },
  {
   "cell_type": "code",
   "execution_count": 7,
   "metadata": {},
   "outputs": [
    {
     "data": {
      "text/plain": [
       "'La Chambre vote une résolution encadrant l’usage éventuel d’une application pour smartphone'"
      ]
     },
     "execution_count": 7,
     "metadata": {},
     "output_type": "execute_result"
    }
   ],
   "source": [
    "df.iloc[2,0]"
   ]
  },
  {
   "cell_type": "code",
   "execution_count": 8,
   "metadata": {},
   "outputs": [
    {
     "data": {
      "text/html": [
       "<div>\n",
       "<style scoped>\n",
       "    .dataframe tbody tr th:only-of-type {\n",
       "        vertical-align: middle;\n",
       "    }\n",
       "\n",
       "    .dataframe tbody tr th {\n",
       "        vertical-align: top;\n",
       "    }\n",
       "\n",
       "    .dataframe thead th {\n",
       "        text-align: right;\n",
       "    }\n",
       "</style>\n",
       "<table border=\"1\" class=\"dataframe\">\n",
       "  <thead>\n",
       "    <tr style=\"text-align: right;\">\n",
       "      <th></th>\n",
       "      <th>title</th>\n",
       "      <th>text</th>\n",
       "      <th>date</th>\n",
       "      <th>url</th>\n",
       "      <th>_id</th>\n",
       "    </tr>\n",
       "  </thead>\n",
       "  <tbody>\n",
       "    <tr>\n",
       "      <th>0</th>\n",
       "      <td>La qualité de l’air en nette amélioration à Br...</td>\n",
       "      <td>Les concentrations de différents polluants rel...</td>\n",
       "      <td>2020-05-22T04:22:52.000Z</td>\n",
       "      <td>https://plus.lesoir.be/302282/article/2020-05-...</td>\n",
       "      <td>5ec760320e5c92500d004aee</td>\n",
       "    </tr>\n",
       "    <tr>\n",
       "      <th>1</th>\n",
       "      <td>Coronavirus à Bruxelles : on respire mieux grâ...</td>\n",
       "      <td>L’amélioration de la qualité de l’air bruxello...</td>\n",
       "      <td>2020-05-22T04:37:03.000Z</td>\n",
       "      <td>https://www.rtbf.be/info/regions/detail_corona...</td>\n",
       "      <td>5ec7603216193c3860cf1616</td>\n",
       "    </tr>\n",
       "    <tr>\n",
       "      <th>2</th>\n",
       "      <td>La Chambre vote une résolution encadrant l’usa...</td>\n",
       "      <td>La résolution pose plusieurs principes tel que...</td>\n",
       "      <td>2020-05-20T19:36:26.000Z</td>\n",
       "      <td>https://plus.lesoir.be/302121/article/2020-05-...</td>\n",
       "      <td>5ec76032039b233f9642aeb6</td>\n",
       "    </tr>\n",
       "    <tr>\n",
       "      <th>3</th>\n",
       "      <td>Plus de cinq millions de cas de Covid-19 dans ...</td>\n",
       "      <td>Le nouveau coronavirus a officiellement touché...</td>\n",
       "      <td>2020-05-21T21:01:32.000Z</td>\n",
       "      <td>https://plus.lesoir.be/302273/article/2020-05-...</td>\n",
       "      <td>5ec760320e5c92500d004af3</td>\n",
       "    </tr>\n",
       "    <tr>\n",
       "      <th>4</th>\n",
       "      <td>Coronavirus en Belgique : les ouvriers plus to...</td>\n",
       "      <td>Les résultats d’une enquête menée par le prest...</td>\n",
       "      <td>2020-05-22T04:00:00.000Z</td>\n",
       "      <td>https://www.rtbf.be/info/economie/detail_coron...</td>\n",
       "      <td>5ec7603216193c3860cf161f</td>\n",
       "    </tr>\n",
       "  </tbody>\n",
       "</table>\n",
       "</div>"
      ],
      "text/plain": [
       "                                               title  \\\n",
       "0  La qualité de l’air en nette amélioration à Br...   \n",
       "1  Coronavirus à Bruxelles : on respire mieux grâ...   \n",
       "2  La Chambre vote une résolution encadrant l’usa...   \n",
       "3  Plus de cinq millions de cas de Covid-19 dans ...   \n",
       "4  Coronavirus en Belgique : les ouvriers plus to...   \n",
       "\n",
       "                                                text  \\\n",
       "0  Les concentrations de différents polluants rel...   \n",
       "1  L’amélioration de la qualité de l’air bruxello...   \n",
       "2  La résolution pose plusieurs principes tel que...   \n",
       "3  Le nouveau coronavirus a officiellement touché...   \n",
       "4  Les résultats d’une enquête menée par le prest...   \n",
       "\n",
       "                       date  \\\n",
       "0  2020-05-22T04:22:52.000Z   \n",
       "1  2020-05-22T04:37:03.000Z   \n",
       "2  2020-05-20T19:36:26.000Z   \n",
       "3  2020-05-21T21:01:32.000Z   \n",
       "4  2020-05-22T04:00:00.000Z   \n",
       "\n",
       "                                                 url                       _id  \n",
       "0  https://plus.lesoir.be/302282/article/2020-05-...  5ec760320e5c92500d004aee  \n",
       "1  https://www.rtbf.be/info/regions/detail_corona...  5ec7603216193c3860cf1616  \n",
       "2  https://plus.lesoir.be/302121/article/2020-05-...  5ec76032039b233f9642aeb6  \n",
       "3  https://plus.lesoir.be/302273/article/2020-05-...  5ec760320e5c92500d004af3  \n",
       "4  https://www.rtbf.be/info/economie/detail_coron...  5ec7603216193c3860cf161f  "
      ]
     },
     "execution_count": 8,
     "metadata": {},
     "output_type": "execute_result"
    }
   ],
   "source": [
    "df.head()"
   ]
  },
  {
   "cell_type": "code",
   "execution_count": 9,
   "metadata": {},
   "outputs": [
    {
     "data": {
      "text/plain": [
       "45158"
      ]
     },
     "execution_count": 9,
     "metadata": {},
     "output_type": "execute_result"
    }
   ],
   "source": [
    "len(df)"
   ]
  },
  {
   "cell_type": "code",
   "execution_count": 10,
   "metadata": {},
   "outputs": [],
   "source": [
    "list_data = []\n",
    "for row in range(len(df)):\n",
    "    if any(word in str(df.iloc[row, 1]) for word in key_words_data):\n",
    "        if str(df.iloc[row, 1]) not in list_data:\n",
    "            list_data.append(str(df.iloc[row, 1]))"
   ]
  },
  {
   "cell_type": "code",
   "execution_count": 11,
   "metadata": {},
   "outputs": [
    {
     "data": {
      "text/plain": [
       "5434"
      ]
     },
     "execution_count": 11,
     "metadata": {},
     "output_type": "execute_result"
    }
   ],
   "source": [
    "len(list_data)"
   ]
  },
  {
   "cell_type": "code",
   "execution_count": 12,
   "metadata": {},
   "outputs": [
    {
     "data": {
      "text/plain": [
       "'En 2013, Google créait une nouvelle filiale, Calico. Son but, un brin ambitieux : « tuer la mort ». Dit autrement, lutter contre le vieillissement en ressuscitant le vieux fantasme de transhumanisme consistant à « augmenter » l’humain grâce à la technologie. Calico ne donne aujourd’hui plus signe de vie. Mais entre-temps, Google a conclu un accord controversé avec 150 hôpitaux aux Etats-Unis lui offrant un accès aux données médicales de millions de patients. En 2014, elle rachetait Deepmind pour 628 millions de dollars. La branche « Intelligence artificielle » de Google utilise les données sur les génomes pour prédire la structure des protéines des organismes, ce qui pourrait permettre de dégager une réponse thérapeutique au Covid-19.'"
      ]
     },
     "execution_count": 12,
     "metadata": {},
     "output_type": "execute_result"
    }
   ],
   "source": [
    "list_data[1]"
   ]
  },
  {
   "cell_type": "code",
   "execution_count": 13,
   "metadata": {},
   "outputs": [],
   "source": [
    "df = df[df['text'].isin(list_data)]"
   ]
  },
  {
   "cell_type": "code",
   "execution_count": 14,
   "metadata": {},
   "outputs": [
    {
     "data": {
      "text/plain": [
       "5434"
      ]
     },
     "execution_count": 14,
     "metadata": {},
     "output_type": "execute_result"
    }
   ],
   "source": [
    "len(df)"
   ]
  },
  {
   "cell_type": "code",
   "execution_count": null,
   "metadata": {},
   "outputs": [],
   "source": []
  }
 ],
 "metadata": {
  "kernelspec": {
   "display_name": "Python 3.11.3 ('nlp_env': venv)",
   "language": "python",
   "name": "python3"
  },
  "language_info": {
   "codemirror_mode": {
    "name": "ipython",
    "version": 3
   },
   "file_extension": ".py",
   "mimetype": "text/x-python",
   "name": "python",
   "nbconvert_exporter": "python",
   "pygments_lexer": "ipython3",
   "version": "3.11.3"
  },
  "orig_nbformat": 4,
  "vscode": {
   "interpreter": {
    "hash": "9bd3ed14e90b49bd08368fcba8ccdf7178aebb376bc97a25599cb1e04c3b1d0e"
   }
  }
 },
 "nbformat": 4,
 "nbformat_minor": 2
}
